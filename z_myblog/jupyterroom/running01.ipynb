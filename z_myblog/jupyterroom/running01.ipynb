{
 "cells": [
  {
   "cell_type": "code",
   "execution_count": 1,
   "metadata": {},
   "outputs": [],
   "source": [
    "import numpy as np\n",
    "import pandas as pd\n",
    "import matplotlib.pyplot as plt\n",
    "import seaborn as sns\n",
    "from pprint import pprint\n",
    "import re\n",
    "from tool import *\n",
    "\n",
    "%matplotlib inline"
   ]
  },
  {
   "cell_type": "code",
   "execution_count": 2,
   "metadata": {},
   "outputs": [],
   "source": [
    "data_train = pd.read_csv('train.csv')\n",
    "data_test = pd.read_csv('test.csv')\n",
    "# 因为数据量少，直接合并训练集和测试集\n",
    "data_raw = data_train.append(data_test)"
   ]
  },
  {
   "cell_type": "code",
   "execution_count": 3,
   "metadata": {},
   "outputs": [],
   "source": [
    "# birdview(data_raw)"
   ]
  },
  {
   "cell_type": "markdown",
   "metadata": {},
   "source": [
    "- **PassengerId：** 乘客ID\n",
    "- **Pclass：** 乘客等级(1/2/3等舱位)\n",
    "- **Name：** 乘客姓名\n",
    "- **Sex：** 性别\n",
    "- **Age：** 年龄\n",
    "- **SibSp：** 堂兄弟/妹个数\n",
    "- **Parch：** 父母与小孩个数\n",
    "- **Ticket：** 船票信息\n",
    "- **Fare：** 票价\n",
    "- **Cabin：** 客舱\n",
    "- **Embarked：** 登船港口\n",
    "\n",
    "目标信息：\n",
    "- **Survived: ** 生还"
   ]
  },
  {
   "cell_type": "markdown",
   "metadata": {},
   "source": [
    "# 特征工程思路\n",
    "* 缺失值填补\n",
    "* 切分出新特征\n",
    "* 定值分箱转定性\n",
    "* 交叉特征"
   ]
  },
  {
   "cell_type": "code",
   "execution_count": 4,
   "metadata": {},
   "outputs": [],
   "source": [
    "data_washed = data_raw.copy()"
   ]
  },
  {
   "cell_type": "markdown",
   "metadata": {},
   "source": [
    "## 缺失值处理"
   ]
  },
  {
   "cell_type": "markdown",
   "metadata": {},
   "source": [
    "### Embarked 登船港口"
   ]
  },
  {
   "cell_type": "code",
   "execution_count": 5,
   "metadata": {},
   "outputs": [
    {
     "data": {
      "text/html": [
       "<div>\n",
       "<style scoped>\n",
       "    .dataframe tbody tr th:only-of-type {\n",
       "        vertical-align: middle;\n",
       "    }\n",
       "\n",
       "    .dataframe tbody tr th {\n",
       "        vertical-align: top;\n",
       "    }\n",
       "\n",
       "    .dataframe thead th {\n",
       "        text-align: right;\n",
       "    }\n",
       "</style>\n",
       "<table border=\"1\" class=\"dataframe\">\n",
       "  <thead>\n",
       "    <tr style=\"text-align: right;\">\n",
       "      <th></th>\n",
       "      <th>Age</th>\n",
       "      <th>Cabin</th>\n",
       "      <th>Embarked</th>\n",
       "      <th>Fare</th>\n",
       "      <th>Name</th>\n",
       "      <th>Parch</th>\n",
       "      <th>PassengerId</th>\n",
       "      <th>Pclass</th>\n",
       "      <th>Sex</th>\n",
       "      <th>SibSp</th>\n",
       "      <th>Survived</th>\n",
       "      <th>Ticket</th>\n",
       "    </tr>\n",
       "  </thead>\n",
       "  <tbody>\n",
       "    <tr>\n",
       "      <th>61</th>\n",
       "      <td>38.0</td>\n",
       "      <td>B28</td>\n",
       "      <td>NaN</td>\n",
       "      <td>80.0</td>\n",
       "      <td>Icard, Miss. Amelie</td>\n",
       "      <td>0</td>\n",
       "      <td>62</td>\n",
       "      <td>1</td>\n",
       "      <td>female</td>\n",
       "      <td>0</td>\n",
       "      <td>1.0</td>\n",
       "      <td>113572</td>\n",
       "    </tr>\n",
       "    <tr>\n",
       "      <th>829</th>\n",
       "      <td>62.0</td>\n",
       "      <td>B28</td>\n",
       "      <td>NaN</td>\n",
       "      <td>80.0</td>\n",
       "      <td>Stone, Mrs. George Nelson (Martha Evelyn)</td>\n",
       "      <td>0</td>\n",
       "      <td>830</td>\n",
       "      <td>1</td>\n",
       "      <td>female</td>\n",
       "      <td>0</td>\n",
       "      <td>1.0</td>\n",
       "      <td>113572</td>\n",
       "    </tr>\n",
       "  </tbody>\n",
       "</table>\n",
       "</div>"
      ],
      "text/plain": [
       "      Age Cabin Embarked  Fare                                       Name  \\\n",
       "61   38.0   B28      NaN  80.0                        Icard, Miss. Amelie   \n",
       "829  62.0   B28      NaN  80.0  Stone, Mrs. George Nelson (Martha Evelyn)   \n",
       "\n",
       "     Parch  PassengerId  Pclass     Sex  SibSp  Survived  Ticket  \n",
       "61       0           62       1  female      0       1.0  113572  \n",
       "829      0          830       1  female      0       1.0  113572  "
      ]
     },
     "execution_count": 5,
     "metadata": {},
     "output_type": "execute_result"
    }
   ],
   "source": [
    "data_washed[data_washed.Embarked.isnull()]"
   ]
  },
  {
   "cell_type": "code",
   "execution_count": 6,
   "metadata": {},
   "outputs": [],
   "source": [
    "# 根据票价确定登船港口应该为S或者C\n",
    "# data_raw[data_raw.Fare >= 70].sort_values(by=['Fare']) \n",
    "\n",
    "# 判断62号为C\n",
    "# data_raw[(data_raw.PassengerId>=50) & (data_raw.PassengerId<=70) \\\n",
    "#          & (data_raw.Sex=='female') & (data_raw.Pclass==1)] \n",
    "# 判断830号为S\n",
    "# data_raw[(data_raw.PassengerId>=820) & (data_raw.PassengerId<=840) \\\n",
    "#          & (data_raw.Sex=='female') & (data_raw.Pclass==1)] "
   ]
  },
  {
   "cell_type": "code",
   "execution_count": 7,
   "metadata": {},
   "outputs": [],
   "source": [
    "data_washed.loc[data_washed.PassengerId==62,'Embarked'] = 'C'\n",
    "data_washed.loc[data_washed.PassengerId==830,'Embarked'] = 'S'"
   ]
  },
  {
   "cell_type": "markdown",
   "metadata": {},
   "source": [
    "### Fare 船票"
   ]
  },
  {
   "cell_type": "code",
   "execution_count": 8,
   "metadata": {},
   "outputs": [
    {
     "data": {
      "text/html": [
       "<div>\n",
       "<style scoped>\n",
       "    .dataframe tbody tr th:only-of-type {\n",
       "        vertical-align: middle;\n",
       "    }\n",
       "\n",
       "    .dataframe tbody tr th {\n",
       "        vertical-align: top;\n",
       "    }\n",
       "\n",
       "    .dataframe thead th {\n",
       "        text-align: right;\n",
       "    }\n",
       "</style>\n",
       "<table border=\"1\" class=\"dataframe\">\n",
       "  <thead>\n",
       "    <tr style=\"text-align: right;\">\n",
       "      <th></th>\n",
       "      <th>Age</th>\n",
       "      <th>Cabin</th>\n",
       "      <th>Embarked</th>\n",
       "      <th>Fare</th>\n",
       "      <th>Name</th>\n",
       "      <th>Parch</th>\n",
       "      <th>PassengerId</th>\n",
       "      <th>Pclass</th>\n",
       "      <th>Sex</th>\n",
       "      <th>SibSp</th>\n",
       "      <th>Survived</th>\n",
       "      <th>Ticket</th>\n",
       "    </tr>\n",
       "  </thead>\n",
       "  <tbody>\n",
       "    <tr>\n",
       "      <th>152</th>\n",
       "      <td>60.5</td>\n",
       "      <td>NaN</td>\n",
       "      <td>S</td>\n",
       "      <td>NaN</td>\n",
       "      <td>Storey, Mr. Thomas</td>\n",
       "      <td>0</td>\n",
       "      <td>1044</td>\n",
       "      <td>3</td>\n",
       "      <td>male</td>\n",
       "      <td>0</td>\n",
       "      <td>NaN</td>\n",
       "      <td>3701</td>\n",
       "    </tr>\n",
       "  </tbody>\n",
       "</table>\n",
       "</div>"
      ],
      "text/plain": [
       "      Age Cabin Embarked  Fare                Name  Parch  PassengerId  \\\n",
       "152  60.5   NaN        S   NaN  Storey, Mr. Thomas      0         1044   \n",
       "\n",
       "     Pclass   Sex  SibSp  Survived Ticket  \n",
       "152       3  male      0       NaN   3701  "
      ]
     },
     "execution_count": 8,
     "metadata": {},
     "output_type": "execute_result"
    }
   ],
   "source": [
    "data_washed[data_washed.Fare.isnull()]"
   ]
  },
  {
   "cell_type": "code",
   "execution_count": 9,
   "metadata": {},
   "outputs": [
    {
     "data": {
      "text/html": [
       "<div>\n",
       "<style scoped>\n",
       "    .dataframe tbody tr th:only-of-type {\n",
       "        vertical-align: middle;\n",
       "    }\n",
       "\n",
       "    .dataframe tbody tr th {\n",
       "        vertical-align: top;\n",
       "    }\n",
       "\n",
       "    .dataframe thead th {\n",
       "        text-align: right;\n",
       "    }\n",
       "</style>\n",
       "<table border=\"1\" class=\"dataframe\">\n",
       "  <thead>\n",
       "    <tr style=\"text-align: right;\">\n",
       "      <th></th>\n",
       "      <th>Age</th>\n",
       "      <th>Cabin</th>\n",
       "      <th>Embarked</th>\n",
       "      <th>Fare</th>\n",
       "      <th>Name</th>\n",
       "      <th>Parch</th>\n",
       "      <th>PassengerId</th>\n",
       "      <th>Pclass</th>\n",
       "      <th>Sex</th>\n",
       "      <th>SibSp</th>\n",
       "      <th>Survived</th>\n",
       "      <th>Ticket</th>\n",
       "    </tr>\n",
       "  </thead>\n",
       "  <tbody>\n",
       "    <tr>\n",
       "      <th>108</th>\n",
       "      <td>NaN</td>\n",
       "      <td>NaN</td>\n",
       "      <td>S</td>\n",
       "      <td>8.7125</td>\n",
       "      <td>Willer, Mr. Aaron (Abi Weller\")\"</td>\n",
       "      <td>0</td>\n",
       "      <td>1000</td>\n",
       "      <td>3</td>\n",
       "      <td>male</td>\n",
       "      <td>0</td>\n",
       "      <td>NaN</td>\n",
       "      <td>3410</td>\n",
       "    </tr>\n",
       "    <tr>\n",
       "      <th>123</th>\n",
       "      <td>28.0</td>\n",
       "      <td>NaN</td>\n",
       "      <td>S</td>\n",
       "      <td>7.2500</td>\n",
       "      <td>Carver, Mr. Alfred John</td>\n",
       "      <td>0</td>\n",
       "      <td>1015</td>\n",
       "      <td>3</td>\n",
       "      <td>male</td>\n",
       "      <td>0</td>\n",
       "      <td>NaN</td>\n",
       "      <td>392095</td>\n",
       "    </tr>\n",
       "    <tr>\n",
       "      <th>126</th>\n",
       "      <td>22.0</td>\n",
       "      <td>NaN</td>\n",
       "      <td>S</td>\n",
       "      <td>7.7958</td>\n",
       "      <td>Brobeck, Mr. Karl Rudolf</td>\n",
       "      <td>0</td>\n",
       "      <td>1018</td>\n",
       "      <td>3</td>\n",
       "      <td>male</td>\n",
       "      <td>0</td>\n",
       "      <td>NaN</td>\n",
       "      <td>350045</td>\n",
       "    </tr>\n",
       "    <tr>\n",
       "      <th>129</th>\n",
       "      <td>24.0</td>\n",
       "      <td>NaN</td>\n",
       "      <td>S</td>\n",
       "      <td>8.0500</td>\n",
       "      <td>Petersen, Mr. Marius</td>\n",
       "      <td>0</td>\n",
       "      <td>1021</td>\n",
       "      <td>3</td>\n",
       "      <td>male</td>\n",
       "      <td>0</td>\n",
       "      <td>NaN</td>\n",
       "      <td>342441</td>\n",
       "    </tr>\n",
       "    <tr>\n",
       "      <th>130</th>\n",
       "      <td>32.0</td>\n",
       "      <td>NaN</td>\n",
       "      <td>S</td>\n",
       "      <td>8.0500</td>\n",
       "      <td>Spinner, Mr. Henry John</td>\n",
       "      <td>0</td>\n",
       "      <td>1022</td>\n",
       "      <td>3</td>\n",
       "      <td>male</td>\n",
       "      <td>0</td>\n",
       "      <td>NaN</td>\n",
       "      <td>STON/OQ. 369943</td>\n",
       "    </tr>\n",
       "    <tr>\n",
       "      <th>134</th>\n",
       "      <td>43.0</td>\n",
       "      <td>NaN</td>\n",
       "      <td>S</td>\n",
       "      <td>7.8958</td>\n",
       "      <td>Dintcheff, Mr. Valtcho</td>\n",
       "      <td>0</td>\n",
       "      <td>1026</td>\n",
       "      <td>3</td>\n",
       "      <td>male</td>\n",
       "      <td>0</td>\n",
       "      <td>NaN</td>\n",
       "      <td>349226</td>\n",
       "    </tr>\n",
       "    <tr>\n",
       "      <th>135</th>\n",
       "      <td>24.0</td>\n",
       "      <td>NaN</td>\n",
       "      <td>S</td>\n",
       "      <td>7.8542</td>\n",
       "      <td>Carlsson, Mr. Carl Robert</td>\n",
       "      <td>0</td>\n",
       "      <td>1027</td>\n",
       "      <td>3</td>\n",
       "      <td>male</td>\n",
       "      <td>0</td>\n",
       "      <td>NaN</td>\n",
       "      <td>350409</td>\n",
       "    </tr>\n",
       "    <tr>\n",
       "      <th>147</th>\n",
       "      <td>22.0</td>\n",
       "      <td>NaN</td>\n",
       "      <td>S</td>\n",
       "      <td>8.0500</td>\n",
       "      <td>Davies, Mr. Evan</td>\n",
       "      <td>0</td>\n",
       "      <td>1039</td>\n",
       "      <td>3</td>\n",
       "      <td>male</td>\n",
       "      <td>0</td>\n",
       "      <td>NaN</td>\n",
       "      <td>SC/A4 23568</td>\n",
       "    </tr>\n",
       "    <tr>\n",
       "      <th>152</th>\n",
       "      <td>60.5</td>\n",
       "      <td>NaN</td>\n",
       "      <td>S</td>\n",
       "      <td>NaN</td>\n",
       "      <td>Storey, Mr. Thomas</td>\n",
       "      <td>0</td>\n",
       "      <td>1044</td>\n",
       "      <td>3</td>\n",
       "      <td>male</td>\n",
       "      <td>0</td>\n",
       "      <td>NaN</td>\n",
       "      <td>3701</td>\n",
       "    </tr>\n",
       "    <tr>\n",
       "      <th>155</th>\n",
       "      <td>24.0</td>\n",
       "      <td>NaN</td>\n",
       "      <td>S</td>\n",
       "      <td>7.5500</td>\n",
       "      <td>Duquemin, Mr. Joseph</td>\n",
       "      <td>0</td>\n",
       "      <td>1047</td>\n",
       "      <td>3</td>\n",
       "      <td>male</td>\n",
       "      <td>0</td>\n",
       "      <td>NaN</td>\n",
       "      <td>S.O./P.P. 752</td>\n",
       "    </tr>\n",
       "    <tr>\n",
       "      <th>163</th>\n",
       "      <td>NaN</td>\n",
       "      <td>NaN</td>\n",
       "      <td>S</td>\n",
       "      <td>7.0000</td>\n",
       "      <td>Pearce, Mr. Ernest</td>\n",
       "      <td>0</td>\n",
       "      <td>1055</td>\n",
       "      <td>3</td>\n",
       "      <td>male</td>\n",
       "      <td>0</td>\n",
       "      <td>NaN</td>\n",
       "      <td>343271</td>\n",
       "    </tr>\n",
       "    <tr>\n",
       "      <th>170</th>\n",
       "      <td>NaN</td>\n",
       "      <td>NaN</td>\n",
       "      <td>S</td>\n",
       "      <td>7.5500</td>\n",
       "      <td>Lithman, Mr. Simon</td>\n",
       "      <td>0</td>\n",
       "      <td>1062</td>\n",
       "      <td>3</td>\n",
       "      <td>male</td>\n",
       "      <td>0</td>\n",
       "      <td>NaN</td>\n",
       "      <td>S.O./P.P. 251</td>\n",
       "    </tr>\n",
       "    <tr>\n",
       "      <th>195</th>\n",
       "      <td>33.0</td>\n",
       "      <td>NaN</td>\n",
       "      <td>S</td>\n",
       "      <td>7.8542</td>\n",
       "      <td>Karlsson, Mr. Julius Konrad Eugen</td>\n",
       "      <td>0</td>\n",
       "      <td>1087</td>\n",
       "      <td>3</td>\n",
       "      <td>male</td>\n",
       "      <td>0</td>\n",
       "      <td>NaN</td>\n",
       "      <td>347465</td>\n",
       "    </tr>\n",
       "  </tbody>\n",
       "</table>\n",
       "</div>"
      ],
      "text/plain": [
       "      Age Cabin Embarked    Fare                               Name  Parch  \\\n",
       "108   NaN   NaN        S  8.7125   Willer, Mr. Aaron (Abi Weller\")\"      0   \n",
       "123  28.0   NaN        S  7.2500            Carver, Mr. Alfred John      0   \n",
       "126  22.0   NaN        S  7.7958           Brobeck, Mr. Karl Rudolf      0   \n",
       "129  24.0   NaN        S  8.0500               Petersen, Mr. Marius      0   \n",
       "130  32.0   NaN        S  8.0500            Spinner, Mr. Henry John      0   \n",
       "134  43.0   NaN        S  7.8958             Dintcheff, Mr. Valtcho      0   \n",
       "135  24.0   NaN        S  7.8542          Carlsson, Mr. Carl Robert      0   \n",
       "147  22.0   NaN        S  8.0500                   Davies, Mr. Evan      0   \n",
       "152  60.5   NaN        S     NaN                 Storey, Mr. Thomas      0   \n",
       "155  24.0   NaN        S  7.5500               Duquemin, Mr. Joseph      0   \n",
       "163   NaN   NaN        S  7.0000                 Pearce, Mr. Ernest      0   \n",
       "170   NaN   NaN        S  7.5500                 Lithman, Mr. Simon      0   \n",
       "195  33.0   NaN        S  7.8542  Karlsson, Mr. Julius Konrad Eugen      0   \n",
       "\n",
       "     PassengerId  Pclass   Sex  SibSp  Survived           Ticket  \n",
       "108         1000       3  male      0       NaN             3410  \n",
       "123         1015       3  male      0       NaN           392095  \n",
       "126         1018       3  male      0       NaN           350045  \n",
       "129         1021       3  male      0       NaN           342441  \n",
       "130         1022       3  male      0       NaN  STON/OQ. 369943  \n",
       "134         1026       3  male      0       NaN           349226  \n",
       "135         1027       3  male      0       NaN           350409  \n",
       "147         1039       3  male      0       NaN      SC/A4 23568  \n",
       "152         1044       3  male      0       NaN             3701  \n",
       "155         1047       3  male      0       NaN    S.O./P.P. 752  \n",
       "163         1055       3  male      0       NaN           343271  \n",
       "170         1062       3  male      0       NaN    S.O./P.P. 251  \n",
       "195         1087       3  male      0       NaN           347465  "
      ]
     },
     "execution_count": 9,
     "metadata": {},
     "output_type": "execute_result"
    }
   ],
   "source": [
    "# 找出同类型的人，使用票价均值\n",
    "data_raw[(data_raw.PassengerId>=1000) & (data_raw.PassengerId<=1100) \\\n",
    "         & (data_raw.Sex=='male') & (data_raw.Pclass==3) & (data_raw.Parch==0) & (data_raw.SibSp==0)\\\n",
    "         & (data_raw.Embarked=='S')]"
   ]
  },
  {
   "cell_type": "code",
   "execution_count": 10,
   "metadata": {},
   "outputs": [],
   "source": [
    "data_washed.loc[data_washed.PassengerId==1044, 'Fare'] = data_raw[(data_raw.PassengerId>=1000) \\\n",
    "                                                            & (data_raw.PassengerId<=1100) \\\n",
    "                                                            & (data_raw.Sex=='male') & (data_raw.Pclass==3) \\\n",
    "                                                            & (data_raw.Parch==0) & (data_raw.SibSp==0) \\\n",
    "                                                            & (data_raw.Embarked=='S') \\\n",
    "                                                            & (data_raw.Fare.notnull())].Fare.mean()"
   ]
  },
  {
   "cell_type": "markdown",
   "metadata": {},
   "source": [
    "### Age 年龄\n",
    "Age特征缺失值：Age有20%缺失值，缺失值较多，大量删除会减少样本信息，这里利用其它特征进行预测填补Age，会在后续进行处理"
   ]
  },
  {
   "cell_type": "markdown",
   "metadata": {},
   "source": [
    "## 衍生变量"
   ]
  },
  {
   "cell_type": "markdown",
   "metadata": {},
   "source": [
    "### CabinCat 客舱分类\n",
    "Cabin特征缺失值：Cain特征有70%的缺失值，较为严重，如果进行大量的填补会引入更多噪声。因为缺失值也是一种值，这里将Cabin是否为缺失值作为一个新的特征来处理"
   ]
  },
  {
   "cell_type": "code",
   "execution_count": 11,
   "metadata": {},
   "outputs": [],
   "source": [
    "data_washed['CabinCat'] = pd.Categorical(data_washed.Cabin.fillna('0').apply(lambda x: x[0])).codes"
   ]
  },
  {
   "cell_type": "markdown",
   "metadata": {},
   "source": [
    "### NameLength 姓名长度"
   ]
  },
  {
   "cell_type": "code",
   "execution_count": 12,
   "metadata": {},
   "outputs": [],
   "source": [
    "# 从Name特征衍生出Name的长度\n",
    "data_washed[\"NameLength\"] = data_washed[\"Name\"].apply(lambda x: len(x))"
   ]
  },
  {
   "cell_type": "markdown",
   "metadata": {},
   "source": [
    "### Surname 姓氏"
   ]
  },
  {
   "cell_type": "code",
   "execution_count": 13,
   "metadata": {},
   "outputs": [],
   "source": [
    "# 提取出Name中的Surname 姓氏\n",
    "data_washed['surname'] = data_washed[\"Name\"].apply(lambda x: x.split(',')[0].lower())"
   ]
  },
  {
   "cell_type": "markdown",
   "metadata": {},
   "source": [
    "### Title 称呼"
   ]
  },
  {
   "cell_type": "code",
   "execution_count": 14,
   "metadata": {},
   "outputs": [],
   "source": [
    "# 提取出Name中的Title 称呼\n",
    "data_washed[\"Title\"] = data_washed[\"Name\"].apply(lambda x: re.search(' ([A-Za-z]+)\\.',x).group(1))\n",
    "# title_mapping = {\"Mr\": 1, \"Miss\": 2, \"Mrs\": 3, \"Master\": 4, \"Dr\": 5, \"Rev\": 6, \"Major\": 7, \"Col\": 7, \"Mlle\": 2, \"Mme\": 3,\"Don\": 9,\"Dona\": 9, \"Lady\": 10, \"Countess\": 10, \"Jonkheer\": 10, \"Sir\": 9, \"Capt\": 7, \"Ms\": 2}\n"
   ]
  },
  {
   "cell_type": "markdown",
   "metadata": {},
   "source": [
    "### TitleCat 称呼量化"
   ]
  },
  {
   "cell_type": "code",
   "execution_count": 15,
   "metadata": {},
   "outputs": [],
   "source": [
    "# 量化Title信息\n",
    "title_mapping = {\"Mr\": 1, \"Miss\": 2, \"Ms\": 2, \"Mlle\": 2, \"Mrs\": 3, \"Mme\": 3, \n",
    "                 \"Master\": 4, \"Dr\": 5, \"Rev\": 6, \"Major\": 7, \"Col\": 7, \"Capt\": 7,  \n",
    "                 \"Don\": 9,\"Dona\": 9, \"Sir\": 9, \"Lady\": 10, \"Countess\": 10, \"Jonkheer\": 10}\n",
    "data_washed[\"TitleCat\"] = data_washed.loc[:,'Title'].map(title_mapping)"
   ]
  },
  {
   "cell_type": "markdown",
   "metadata": {},
   "source": [
    "### FamilySize 家庭Size"
   ]
  },
  {
   "cell_type": "code",
   "execution_count": 16,
   "metadata": {},
   "outputs": [],
   "source": [
    "# SibSp和Parch特征进行组合\n",
    "data_washed[\"FamilySize\"] = data_washed[\"SibSp\"] + data_washed[\"Parch\"] + 1\n",
    "# 根据FamilySize分布进行分箱\n",
    "data_washed[\"FamilySize\"] = pd.cut(data_washed[\"FamilySize\"], bins=[0,1,4,20], labels=[0,1,2])"
   ]
  },
  {
   "cell_type": "markdown",
   "metadata": {},
   "source": [
    "### Embarked&Sex处理"
   ]
  },
  {
   "cell_type": "code",
   "execution_count": 17,
   "metadata": {},
   "outputs": [],
   "source": [
    "# 量化Embarked特征\n",
    "data_washed[\"Embarked\"] = pd.Categorical(data_washed.Embarked).codes\n",
    "\n",
    "# 对Sex特征进行独热编码分组\n",
    "data_washed = pd.concat([data_washed,pd.get_dummies(data_washed['Sex'])],axis=1)"
   ]
  },
  {
   "cell_type": "markdown",
   "metadata": {},
   "source": [
    "### 高级衍生变量"
   ]
  },
  {
   "cell_type": "code",
   "execution_count": 18,
   "metadata": {},
   "outputs": [],
   "source": [
    "# 妇女/儿童/男士标签   但是Age的缺失值挺多的啊？\n",
    "child_age = 18\n",
    "def get_person(passenger):\n",
    "    age, sex = passenger\n",
    "    if (age < child_age):\n",
    "        return 'child'\n",
    "    elif (sex == 'female'):\n",
    "        return 'female_adult'\n",
    "    else:\n",
    "        return 'male_adult'\n",
    "    \n",
    "data_washed = pd.concat(\n",
    "    [data_washed,\n",
    "     pd.DataFrame(\n",
    "         data_washed[['Age', 'Sex']].apply(get_person, axis=1), columns=['person']\n",
    "         )\n",
    "    ],axis=1)\n",
    "# 对person特征进行独热编码分组\n",
    "data_washed= pd.concat([data_washed,\n",
    "                        pd.get_dummies(data_washed['person'])\n",
    "                       ],axis=1)"
   ]
  },
  {
   "cell_type": "code",
   "execution_count": 19,
   "metadata": {},
   "outputs": [
    {
     "name": "stdout",
     "output_type": "stream",
     "text": [
      "0    1020\n",
      "2     154\n",
      "1     135\n",
      "Name: CabinType, dtype: int64\n"
     ]
    }
   ],
   "source": [
    "# cabin奇偶性的衍生特征\n",
    "def get_type_cabine(cabine): \n",
    "    cabine_search = re.search('\\d+', cabine)\n",
    "    if cabine_search:\n",
    "        num = cabine_search.group(0)\n",
    "        if np.float64(num) % 2 == 0:\n",
    "            return '2'\n",
    "        else:\n",
    "            return '1'\n",
    "    return '0'\n",
    "\n",
    "data_washed[\"Cabin\"] = data_washed[\"Cabin\"].fillna(\" \")\n",
    "data_washed[\"CabinType\"] = data_washed[\"Cabin\"].apply(get_type_cabine)\n",
    "print(pd.value_counts(data_washed[\"CabinType\"]))"
   ]
  },
  {
   "cell_type": "markdown",
   "metadata": {},
   "source": [
    "## 特殊变量"
   ]
  },
  {
   "cell_type": "markdown",
   "metadata": {},
   "source": [
    "### surname衍生特征"
   ]
  },
  {
   "cell_type": "code",
   "execution_count": 20,
   "metadata": {},
   "outputs": [
    {
     "ename": "ValueError",
     "evalue": "Buffer dtype mismatch, expected 'Python object' but got 'long'",
     "output_type": "error",
     "traceback": [
      "\u001b[0;31m---------------------------------------------------------------------------\u001b[0m",
      "\u001b[0;31mValueError\u001b[0m                                Traceback (most recent call last)",
      "\u001b[0;31mValueError\u001b[0m: Buffer dtype mismatch, expected 'Python object' but got 'long'"
     ]
    },
    {
     "name": "stderr",
     "output_type": "stream",
     "text": [
      "Exception ignored in: 'pandas._libs.lib.is_bool_array'\n",
      "ValueError: Buffer dtype mismatch, expected 'Python object' but got 'long'\n"
     ]
    }
   ],
   "source": [
    "# 统计姓氏人数， 简称族群\n",
    "table_surname = pd.DataFrame(data_washed[\"surname\"].value_counts()) \n",
    "table_surname.rename(columns={'surname':'Surname_Numbers'}, inplace=True)\n",
    "\n",
    "# 族群死亡妇女人数\n",
    "table_surname['Surname_dead_women'] = data_washed.surname[(data_washed.female_adult == 1.0)\n",
    "                                    & (data_washed.Survived == 0.0)\n",
    "                                    & ((data_washed.Parch > 0) | (data_washed.SibSp > 0))].value_counts()\n",
    "table_surname['Surname_dead_women'] = table_surname['Surname_dead_women'].fillna(0)\n",
    "table_surname.loc[table_surname['Surname_dead_women']>0,'Surname_dead_women'] = 1.0\n",
    "\n",
    "# # 族群存活男性人数\n",
    "table_surname['Surname_surviving_men'] = data_washed.surname[(data_washed.male_adult == 1.0)\n",
    "                                    & (data_washed.Survived == 1.0)\n",
    "                                    & ((data_washed.Parch > 0) | (data_washed.SibSp > 0))].value_counts()\n",
    "table_surname['Surname_surviving_men'] = table_surname['Surname_surviving_men'].fillna(0)\n",
    "table_surname.loc[table_surname['Surname_surviving_men']>0,'Surname_surviving_men'] = 1.0\n",
    "\n",
    "# surname特征量化\n",
    "table_surname[\"Surname_Id\"]= pd.Categorical(table_surname.index).codes\n",
    "# surname数量分箱\n",
    "table_surname.loc[table_surname[\"Surname_Numbers\"] < 3, \"Surname_Id\"] = -1\n",
    "table_surname[\"Surname_Numbers\"] = pd.cut(table_surname[\"Surname_Numbers\"], bins=[0,1,4,20], labels=[0,1,2])\n",
    "\n",
    "# 警告\n",
    "data_washed = pd.merge(data_washed, table_surname, left_on=\"surname\",right_index=True,how='left', sort=False)"
   ]
  },
  {
   "cell_type": "markdown",
   "metadata": {},
   "source": [
    "### ticket的衍生特征"
   ]
  },
  {
   "cell_type": "code",
   "execution_count": 21,
   "metadata": {},
   "outputs": [
    {
     "ename": "ValueError",
     "evalue": "Buffer dtype mismatch, expected 'Python object' but got 'long'",
     "output_type": "error",
     "traceback": [
      "\u001b[0;31m---------------------------------------------------------------------------\u001b[0m",
      "\u001b[0;31mValueError\u001b[0m                                Traceback (most recent call last)",
      "\u001b[0;31mValueError\u001b[0m: Buffer dtype mismatch, expected 'Python object' but got 'long'"
     ]
    },
    {
     "name": "stderr",
     "output_type": "stream",
     "text": [
      "Exception ignored in: 'pandas._libs.lib.is_bool_array'\n",
      "ValueError: Buffer dtype mismatch, expected 'Python object' but got 'long'\n"
     ]
    }
   ],
   "source": [
    "# 统计同票量\n",
    "table_ticket = pd.DataFrame(data_washed[\"Ticket\"].value_counts())\n",
    "table_ticket.rename(columns={'Ticket':'Ticket_Numbers'}, inplace=True)\n",
    "\n",
    "# 套票内死亡妇女人数\n",
    "table_ticket['Ticket_dead_women'] = data_washed.Ticket[(data_washed.female_adult == 1.0) \n",
    "                                    & (data_washed.Survived == 0.0) \n",
    "                                    & ((data_washed.Parch > 0) | (data_washed.SibSp > 0))].value_counts()\n",
    "table_ticket['Ticket_dead_women'] = table_ticket['Ticket_dead_women'].fillna(0)\n",
    "table_ticket.loc[table_ticket['Ticket_dead_women']>0,'Ticket_dead_women'] = 1.0\n",
    "\n",
    "# 套票内存活男性人数\n",
    "table_ticket['Ticket_surviving_men'] = data_washed.Ticket[(data_washed.male_adult == 1.0) \n",
    "                                    & (data_washed.Survived == 1.0) \n",
    "                                    & ((data_washed.Parch > 0) | (data_washed.SibSp > 0))].value_counts()\n",
    "table_ticket['Ticket_surviving_men'] = table_ticket['Ticket_surviving_men'].fillna(0)\n",
    "table_ticket.loc[table_ticket['Ticket_surviving_men']>0,'Ticket_surviving_men'] = 1.0\n",
    "\n",
    "# Ticket特征量化\n",
    "table_ticket[\"Ticket_Id\"] = pd.Categorical(table_ticket.index).codes\n",
    "# Ticket数量分箱\n",
    "table_ticket.loc[table_ticket[\"Ticket_Numbers\"] < 3, \"Ticket_Id\"] = -1\n",
    "table_ticket[\"Ticket_Numbers\"] = pd.cut(table_ticket[\"Ticket_Numbers\"], bins=[0,1,4,20], labels=[0,1,2])\n",
    "\n",
    "# 警告\n",
    "data_washed = pd.merge(data_washed, table_ticket, left_on=\"Ticket\",right_index=True, how='left', sort=False)"
   ]
  },
  {
   "cell_type": "markdown",
   "metadata": {},
   "source": [
    "### Age的缺失填补"
   ]
  },
  {
   "cell_type": "code",
   "execution_count": 22,
   "metadata": {},
   "outputs": [],
   "source": [
    "from sklearn.ensemble import RandomForestClassifier, ExtraTreesRegressor\n",
    "\n",
    "classers = ['Fare','Parch','Pclass','SibSp','TitleCat','CabinCat',\n",
    "            'female','male', 'Embarked', 'FamilySize', 'NameLength','Ticket_Numbers','Ticket_Id']\n",
    "\n",
    "etr = ExtraTreesRegressor(n_estimators=200,random_state=0)\n",
    "\n",
    "X_train = data_washed[classers][data_washed['Age'].notnull()]\n",
    "Y_train = data_washed['Age'][data_washed['Age'].notnull()]\n",
    "X_test = data_washed[classers][data_washed['Age'].isnull()]\n",
    "\n",
    "etr.fit(X_train.as_matrix(),np.ravel(Y_train))\n",
    "age_preds = etr.predict(X_test.as_matrix())\n",
    "data_washed.loc[data_washed['Age'].isnull(), 'Age'] = age_preds"
   ]
  },
  {
   "cell_type": "markdown",
   "metadata": {},
   "source": [
    "# 特征选择"
   ]
  },
  {
   "cell_type": "code",
   "execution_count": 23,
   "metadata": {},
   "outputs": [],
   "source": [
    "X_train = data_washed[0:891].copy()\n",
    "y_train = data_train[\"Survived\"]\n",
    "X_test = data_washed[891:].copy()"
   ]
  },
  {
   "cell_type": "code",
   "execution_count": 24,
   "metadata": {},
   "outputs": [
    {
     "name": "stdout",
     "output_type": "stream",
     "text": [
      "Features importance :\n",
      "68.85 female\n",
      "68.85 male\n",
      "64.90 male_adult\n",
      "53.23 female_adult\n",
      "26.22 TitleCat\n",
      "24.60 Pclass\n",
      "23.69 NameLength\n",
      "17.75 CabinCat\n",
      "17.00 Ticket_surviving_men\n",
      "16.28 CabinType\n",
      "14.21 Fare\n",
      "13.54 Ticket_dead_women\n",
      "13.04 Surname_surviving_men\n",
      "10.36 Surname_dead_women\n",
      "6.55 Embarked\n",
      "5.27 Ticket_Numbers\n",
      "3.59 child\n",
      "2.93 FamilySize\n",
      "1.83 Parch\n",
      "1.65 Age\n",
      "1.07 Ticket_Id\n",
      "0.73 Surname_Numbers\n",
      "0.53 SibSp\n"
     ]
    }
   ],
   "source": [
    "from sklearn.feature_selection import SelectKBest, f_classif, chi2\n",
    "\n",
    "features= ['female','male','Age','male_adult','female_adult', 'child','TitleCat',\n",
    "           'Pclass','Ticket_Id','NameLength','CabinType','CabinCat', 'SibSp', 'Parch',\n",
    "           'Fare','Embarked','Surname_Numbers','Ticket_Numbers','FamilySize',\n",
    "           'Ticket_dead_women','Ticket_surviving_men',\n",
    "           'Surname_dead_women','Surname_surviving_men']\n",
    "\n",
    "selector = SelectKBest(f_classif, k=len(features))\n",
    "selector.fit(X_train[features], y_train)\n",
    "scores = -np.log10(selector.pvalues_)\n",
    "indices = np.argsort(scores)[::-1]\n",
    "print(\"Features importance :\")\n",
    "for f in range(len(scores)):\n",
    "    print(\"%0.2f %s\" % (scores[indices[f]],features[indices[f]]))"
   ]
  },
  {
   "cell_type": "markdown",
   "metadata": {},
   "source": [
    "# 建模预测"
   ]
  },
  {
   "cell_type": "code",
   "execution_count": 25,
   "metadata": {},
   "outputs": [],
   "source": [
    "features_selected= features"
   ]
  },
  {
   "cell_type": "code",
   "execution_count": 37,
   "metadata": {},
   "outputs": [
    {
     "name": "stdout",
     "output_type": "stream",
     "text": [
      "Accuracy: 89.450 (+/- 0.57) [RFC Cross Validation]\n",
      "Accuracy: 96.409           [RFC full test]\n",
      "1. feature 15 (9.496257) Fare\n",
      "2. feature 3 (9.169027) Age\n",
      "3. feature 10 (8.600774) NameLength\n",
      "4. feature 20 (7.768113) Ticket_dead_women\n",
      "5. feature 22 (7.092957) Surname_dead_women\n",
      "6. feature 7 (7.028014) TitleCat\n",
      "7. feature 2 (6.691796) male\n",
      "8. feature 1 (5.841961) female\n",
      "9. feature 8 (5.306097) Pclass\n",
      "10. feature 4 (4.797643) male_adult\n",
      "11. feature 21 (4.481418) Ticket_surviving_men\n",
      "12. feature 5 (3.525052) female_adult\n",
      "13. feature 18 (2.831558) Ticket_Numbers\n",
      "14. feature 12 (2.783614) CabinCat\n",
      "15. feature 23 (2.589469) Surname_surviving_men\n",
      "16. feature 19 (2.405441) FamilySize\n",
      "17. feature 11 (1.967324) CabinType\n",
      "18. feature 17 (1.941359) Surname_Numbers\n",
      "19. feature 16 (1.693444) Embarked\n",
      "20. feature 9 (1.345310) Ticket_Id\n",
      "21. feature 13 (1.247839) SibSp\n",
      "22. feature 14 (0.700526) Parch\n",
      "23. feature 6 (0.695008) child\n"
     ]
    }
   ],
   "source": [
    "from sklearn.model_selection import cross_val_score\n",
    "from sklearn.ensemble import AdaBoostClassifier, RandomForestClassifier,GradientBoostingClassifier\n",
    "\n",
    "rfc = RandomForestClassifier(n_estimators=3000, min_samples_split=4, class_weight={0:0.745,1:0.255})\n",
    "# rfc = AdaBoostClassifier(n_estimators=3000, learning_rate=0.1, random_state=1)\n",
    "# rfc = GradientBoostingClassifier(n_estimators=3000)\n",
    "\n",
    "scores = cross_val_score(rfc, X_train[features_selected], y_train, cv=3)\n",
    "print(\"Accuracy: %0.3f (+/- %0.2f) [%s]\" % (scores.mean()*100, scores.std()*100, 'RFC Cross Validation'))\n",
    "\n",
    "rfc.fit(X_train[features_selected], y_train)\n",
    "score = rfc.score(X_train[features_selected], y_train)\n",
    "print(\"Accuracy: %0.3f           [%s]\" % (score*100, 'RFC full test'))\n",
    "\n",
    "importances = rfc.feature_importances_\n",
    "indices = np.argsort(importances)[::-1]\n",
    "for f in range(len(features_selected)):\n",
    "    print(\"%d. feature %d (%f) %s\" % (f + 1, \n",
    "                                      indices[f]+1, \n",
    "                                      importances[indices[f]]*100, \n",
    "                                      features_selected[indices[f]]))"
   ]
  },
  {
   "cell_type": "code",
   "execution_count": 38,
   "metadata": {},
   "outputs": [],
   "source": [
    "# 输出预测结果\n",
    "PassengerId =np.array(data_test[\"PassengerId\"]).astype(int)\n",
    "predictions = rfc.predict(X_test[features_selected])\n",
    "my_prediction = pd.DataFrame(predictions, PassengerId, columns = [\"Survived\"])\n",
    "my_prediction.to_csv(\"prediction01.csv\", index_label = [\"PassengerId\"])"
   ]
  },
  {
   "cell_type": "code",
   "execution_count": null,
   "metadata": {},
   "outputs": [],
   "source": []
  },
  {
   "cell_type": "code",
   "execution_count": null,
   "metadata": {},
   "outputs": [],
   "source": []
  }
 ],
 "metadata": {
  "kernelspec": {
   "display_name": "Python 3",
   "language": "python",
   "name": "python3"
  },
  "language_info": {
   "codemirror_mode": {
    "name": "ipython",
    "version": 3
   },
   "file_extension": ".py",
   "mimetype": "text/x-python",
   "name": "python",
   "nbconvert_exporter": "python",
   "pygments_lexer": "ipython3",
   "version": "3.6.7"
  },
  "toc": {
   "base_numbering": 1,
   "nav_menu": {},
   "number_sections": true,
   "sideBar": true,
   "skip_h1_title": false,
   "title_cell": "Table of Contents",
   "title_sidebar": "Contents",
   "toc_cell": false,
   "toc_position": {
    "height": "calc(100% - 180px)",
    "left": "10px",
    "top": "150px",
    "width": "219px"
   },
   "toc_section_display": true,
   "toc_window_display": true
  },
  "varInspector": {
   "cols": {
    "lenName": 16,
    "lenType": 16,
    "lenVar": 40
   },
   "kernels_config": {
    "python": {
     "delete_cmd_postfix": "",
     "delete_cmd_prefix": "del ",
     "library": "var_list.py",
     "varRefreshCmd": "print(var_dic_list())"
    },
    "r": {
     "delete_cmd_postfix": ") ",
     "delete_cmd_prefix": "rm(",
     "library": "var_list.r",
     "varRefreshCmd": "cat(var_dic_list()) "
    }
   },
   "types_to_exclude": [
    "module",
    "function",
    "builtin_function_or_method",
    "instance",
    "_Feature"
   ],
   "window_display": false
  }
 },
 "nbformat": 4,
 "nbformat_minor": 2
}
