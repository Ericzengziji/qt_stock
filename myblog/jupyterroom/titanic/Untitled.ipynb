{
 "cells": [
  {
   "cell_type": "code",
   "execution_count": 1,
   "metadata": {},
   "outputs": [
    {
     "name": "stdout",
     "output_type": "stream",
     "text": [
      "111\n"
     ]
    }
   ],
   "source": [
    "print(111)"
   ]
  },
  {
   "cell_type": "code",
   "execution_count": 2,
   "metadata": {},
   "outputs": [
    {
     "name": "stdout",
     "output_type": "stream",
     "text": [
      "Package               Version\n",
      "--------------------- -------\n",
      "attrs                 19.1.0 \n",
      "backcall              0.1.0  \n",
      "bleach                3.1.0  \n",
      "colorama              0.4.1  \n",
      "decorator             4.3.2  \n",
      "defusedxml            0.5.0  \n",
      "entrypoints           0.3    \n",
      "ipykernel             5.1.0  \n",
      "ipython               7.3.0  \n",
      "ipython-genutils      0.2.0  \n",
      "ipywidgets            7.4.2  \n",
      "jedi                  0.13.3 \n",
      "Jinja2                2.10   \n",
      "jsonschema            3.0.1  \n",
      "jupyter-client        5.2.4  \n",
      "jupyter-console       6.0.0  \n",
      "jupyter-core          4.4.0  \n",
      "MarkupSafe            1.1.1  \n",
      "mistune               0.8.4  \n",
      "nbconvert             5.4.1  \n",
      "nbformat              4.4.0  \n",
      "notebook              5.7.4  \n",
      "pandocfilters         1.4.2  \n",
      "parso                 0.3.4  \n",
      "pickleshare           0.7.5  \n",
      "pip                   10.0.1 \n",
      "prometheus-client     0.6.0  \n",
      "prompt-toolkit        2.0.9  \n",
      "Pygments              2.3.1  \n",
      "pyrsistent            0.14.11\n",
      "python-dateutil       2.8.0  \n",
      "pywinpty              0.5.5  \n",
      "pyzmq                 18.0.0 \n",
      "qtconsole             4.4.3  \n",
      "Send2Trash            1.5.0  \n",
      "setuptools            39.0.1 \n",
      "six                   1.12.0 \n",
      "terminado             0.8.1  \n",
      "testpath              0.4.2  \n",
      "tornado               6.0    \n",
      "traitlets             4.3.2  \n",
      "virtualenv            16.4.3 \n",
      "virtualenvwrapper-win 1.2.5  \n",
      "wcwidth               0.1.7  \n",
      "webencodings          0.5.1  \n",
      "widgetsnbextension    3.4.2  \n",
      "Note: you may need to restart the kernel to use updated packages.\n"
     ]
    },
    {
     "name": "stderr",
     "output_type": "stream",
     "text": [
      "You are using pip version 10.0.1, however version 19.0.3 is available.\n",
      "You should consider upgrading via the 'python -m pip install --upgrade pip' command.\n"
     ]
    }
   ],
   "source": [
    "pip list"
   ]
  },
  {
   "cell_type": "code",
   "execution_count": 3,
   "metadata": {},
   "outputs": [
    {
     "ename": "NameError",
     "evalue": "name 'workon' is not defined",
     "output_type": "error",
     "traceback": [
      "\u001b[1;31m---------------------------------------------------------------------------\u001b[0m",
      "\u001b[1;31mNameError\u001b[0m                                 Traceback (most recent call last)",
      "\u001b[1;32m<ipython-input-3-4d6e86c2dbaa>\u001b[0m in \u001b[0;36m<module>\u001b[1;34m\u001b[0m\n\u001b[1;32m----> 1\u001b[1;33m \u001b[0mworkon\u001b[0m\u001b[1;33m\u001b[0m\u001b[1;33m\u001b[0m\u001b[0m\n\u001b[0m",
      "\u001b[1;31mNameError\u001b[0m: name 'workon' is not defined"
     ]
    }
   ],
   "source": [
    "workon"
   ]
  },
  {
   "cell_type": "code",
   "execution_count": 4,
   "metadata": {},
   "outputs": [
    {
     "ename": "NameError",
     "evalue": "name 'info' is not defined",
     "output_type": "error",
     "traceback": [
      "\u001b[1;31m---------------------------------------------------------------------------\u001b[0m",
      "\u001b[1;31mNameError\u001b[0m                                 Traceback (most recent call last)",
      "\u001b[1;32m<ipython-input-4-4a5d972c5b41>\u001b[0m in \u001b[0;36m<module>\u001b[1;34m\u001b[0m\n\u001b[1;32m----> 1\u001b[1;33m \u001b[0minfo\u001b[0m \u001b[1;33m-\u001b[0m\u001b[0me\u001b[0m\u001b[1;33m\u001b[0m\u001b[1;33m\u001b[0m\u001b[0m\n\u001b[0m",
      "\u001b[1;31mNameError\u001b[0m: name 'info' is not defined"
     ]
    }
   ],
   "source": [
    "info -e"
   ]
  },
  {
   "cell_type": "code",
   "execution_count": null,
   "metadata": {},
   "outputs": [],
   "source": []
  }
 ],
 "metadata": {
  "kernelspec": {
   "display_name": "Python 3",
   "language": "python",
   "name": "python3"
  },
  "language_info": {
   "codemirror_mode": {
    "name": "ipython",
    "version": 3
   },
   "file_extension": ".py",
   "mimetype": "text/x-python",
   "name": "python",
   "nbconvert_exporter": "python",
   "pygments_lexer": "ipython3",
   "version": "3.6.7"
  }
 },
 "nbformat": 4,
 "nbformat_minor": 2
}
